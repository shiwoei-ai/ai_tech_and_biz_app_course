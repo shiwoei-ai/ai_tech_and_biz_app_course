{
  "cells": [
    {
      "cell_type": "markdown",
      "metadata": {
        "id": "view-in-github",
        "colab_type": "text"
      },
      "source": [
        "<a href=\"https://colab.research.google.com/github/shiwoei-ai/ai_tech_and_biz_app_course/blob/main/workshop2a.ipynb\" target=\"_parent\"><img src=\"https://colab.research.google.com/assets/colab-badge.svg\" alt=\"Open In Colab\"/></a>"
      ]
    },
    {
      "cell_type": "code",
      "execution_count": null,
      "metadata": {
        "id": "jNNt8IhgHX_6"
      },
      "outputs": [],
      "source": [
        "# 1. 程式執行環境的準備\n",
        "# 載入必要套件\n",
        "\n",
        "# 載入標準數據分析、畫圖套件\n",
        "import numpy as np\n",
        "import pandas as pd\n",
        "import matplotlib.pyplot as plt\n",
        "\n",
        "# 載入建立類神經網路模型所需套件\n",
        "import tensorflow as tf\n",
        "from tensorflow.keras.datasets import mnist\n",
        "from tensorflow.keras.models import Sequential\n",
        "from tensorflow.keras.layers import Dense, Flatten\n",
        "from tensorflow.keras.layers import Dropout\n",
        "from tensorflow.keras.layers import BatchNormalization\n",
        "from tensorflow.keras.utils import to_categorical\n",
        "from tensorflow.keras.optimizers import SGD\n",
        "from tensorflow.keras.optimizers import Adam\n",
        "\n",
        "# 讓圖直接在 notebook 中顯示\n",
        "%matplotlib inline"
      ]
    },
    {
      "cell_type": "code",
      "execution_count": null,
      "metadata": {
        "id": "9jBmd-mORr-L"
      },
      "outputs": [],
      "source": [
        "# 2. 資料載入及檢查（Loading Data）\n",
        "# 2.1 載入 MNIST 資料集\n",
        "(x_train, y_train), (x_test, y_test) = mnist.load_data()\n",
        "\n",
        "# 2.2 檢視資料集\n",
        "# 以下的程式碼只是為了瞭解資料的特性，與建模無關\n",
        "# 檢視訓練資料與測試資料的維度\n",
        "print(\"訓練資料:\", x_train.shape, y_train.shape)\n",
        "print(\"測試資料:\", x_test.shape, y_test.shape)\n",
        "\n",
        "# 看看第一張圖的資料長什麼樣子\n",
        "np.set_printoptions(linewidth=np.inf)\n",
        "print(x_train[0])\n",
        "\n",
        "# 看看訓練資料最前面的 12 張圖的正確答案\n",
        "print(y_train[0:12])\n",
        "\n",
        "# 畫出訓練資料最前面的 12 張圖\n",
        "plt.figure(figsize=(5,5))\n",
        "for k in range(12):\n",
        "  plt.subplot(3, 4, k+1)\n",
        "  plt.imshow(x_train[k], cmap='gray')\n",
        "plt.tight_layout()\n",
        "plt.show()"
      ]
    },
    {
      "cell_type": "code",
      "execution_count": null,
      "metadata": {
        "id": "hkwzArajWA34",
        "collapsed": true
      },
      "outputs": [],
      "source": [
        "# 3. 資料前處理\n",
        "# 正規化（把 0-255 轉換成 0-1 之間的數據)\n",
        "x_train = x_train / 255.0\n",
        "x_test = x_test / 255.0\n",
        "\n",
        "# 再看看第一張圖的資料長什麼樣子\n",
        "print(x_train[0])\n",
        "\n",
        "# One-hot encoding 標籤\n",
        "# 為分類輸出所做的資料前處理\n",
        "y_train = to_categorical(y_train, 10)\n",
        "y_test = to_categorical(y_test, 10)\n",
        "\n",
        "# 看看第 1 張圖正確答案現在的輸出的格式\n",
        "print(y_train[0])\n",
        "\n",
        "# 把原本圖像的 28x28 矩陣攤平成 784 維向量\n",
        "x_train = x_train.reshape(60000, 784)\n",
        "x_test = x_test.reshape(10000, 784)"
      ]
    },
    {
      "cell_type": "code",
      "execution_count": null,
      "metadata": {
        "id": "W56Xa3ifWLJb",
        "collapsed": true
      },
      "outputs": [],
      "source": [
        "# 4. 建立模型 (Dense NN)\n",
        "# 目前神經網路的構造有三層隱藏層，你可以自己做一些調整\n",
        "# 此外，也可以用\n",
        "# model.add(BatchNormalization())\n",
        "# 或\n",
        "# model.add(Dropout(0.2))\n",
        "# 等來加入批次正規化或丟棄法等功能\n",
        "model = Sequential()\n",
        "model.add(Dense(30, input_dim=784, activation='relu'))\n",
        "model.add(Dense(30, activation='relu'))\n",
        "model.add(Dense(30, activation='relu'))\n",
        "model.add(Dense(10, activation='softmax'))"
      ]
    },
    {
      "cell_type": "code",
      "execution_count": null,
      "metadata": {
        "id": "yr59ABULWPmx",
        "collapsed": true
      },
      "outputs": [],
      "source": [
        "# 5. 編譯模型\n",
        "# 目前的 loss function 是使用 mean square error，也許用 categorical_crossentropy 更合適\n",
        "# optimizer 的部分也可以改成其他的優化模型，例如 adam\n",
        "model.compile(loss='mse', optimizer=SGD(learning_rate=0.087), metrics=['accuracy'])\n",
        "model.summary()"
      ]
    },
    {
      "cell_type": "code",
      "execution_count": null,
      "metadata": {
        "id": "KLo5WVaCXHBk",
        "collapsed": true
      },
      "outputs": [],
      "source": [
        "# 6. 訓練模型\n",
        "model.fit(x_train, y_train, batch_size=100, epochs=20)"
      ]
    },
    {
      "cell_type": "code",
      "execution_count": null,
      "metadata": {
        "id": "54w-Eru_XYdP"
      },
      "outputs": [],
      "source": [
        "# 7. 評估模型\n",
        "test_loss, test_acc = model.evaluate(x_test, y_test, verbose=0)\n",
        "print(f\"測試集準確率: {test_acc:.4f}\")"
      ]
    },
    {
      "cell_type": "code",
      "execution_count": null,
      "metadata": {
        "id": "k1YWydkjaQ_A",
        "collapsed": true
      },
      "outputs": [],
      "source": [
        "# 8. 應用：安裝並且載入神速打造 web app 的 Gradio\n",
        "!pip install gradio\n",
        "import gradio as gr\n",
        "from PIL import Image"
      ]
    },
    {
      "cell_type": "code",
      "execution_count": null,
      "metadata": {
        "id": "YCDldfE4eVh6"
      },
      "outputs": [],
      "source": [
        "def resize_image(inp):\n",
        "    # 圖在 inp[\"layers\"][0]\n",
        "    image = np.array(inp[\"layers\"][0], dtype=np.float32)\n",
        "    image = image.astype(np.uint8)\n",
        "\n",
        "    # 轉成 PIL 格式\n",
        "    image_pil = Image.fromarray(image)\n",
        "\n",
        "    # Alpha 通道設為白色, 再把圖從 RGBA 轉成 RGB\n",
        "    background = Image.new(\"RGB\", image_pil.size, (255, 255, 255))\n",
        "    background.paste(image_pil, mask=image_pil.split()[3]) # 把圖片粘貼到白色背景上，使用透明通道作為遮罩\n",
        "    image_pil = background\n",
        "\n",
        "    # 轉換為灰階圖像\n",
        "    image_gray = image_pil.convert(\"L\")\n",
        "\n",
        "    # 將灰階圖像縮放到 28x28, 轉回 numpy array\n",
        "    img_array = np.array(image_gray.resize((28, 28), resample=Image.LANCZOS))\n",
        "\n",
        "    # 配合 MNIST 數據集\n",
        "    img_array = 255 - img_array\n",
        "\n",
        "    # 拉平並縮放\n",
        "    img_array = img_array.reshape(1, 784) / 255.0\n",
        "\n",
        "    return img_array"
      ]
    },
    {
      "cell_type": "code",
      "execution_count": null,
      "metadata": {
        "id": "QUejwCO9S7R4"
      },
      "outputs": [],
      "source": [
        "def recognize_digit(inp):\n",
        "    img_array = resize_image(inp)\n",
        "    prediction = model.predict(img_array).flatten()\n",
        "    labels = list('0123456789')\n",
        "    return {labels[i]: float(prediction[i]) for i in range(10)}"
      ]
    },
    {
      "cell_type": "code",
      "execution_count": null,
      "metadata": {
        "colab": {
          "background_save": true
        },
        "id": "ITOFueb5KSBD",
        "collapsed": true
      },
      "outputs": [],
      "source": [
        "iface = gr.Interface(\n",
        "    fn=recognize_digit,\n",
        "    inputs=gr.Sketchpad(),\n",
        "    outputs=gr.Label(num_top_classes=3),\n",
        "    title=\"台科大 MNIST 手寫辨識\",\n",
        "    description=\"請在畫板上繪製數字\"\n",
        ")\n",
        "\n",
        "iface.launch(share=True, debug=True)"
      ]
    }
  ],
  "metadata": {
    "colab": {
      "provenance": [],
      "authorship_tag": "ABX9TyPde7Wl5C8Wba7C2xQHQvvi",
      "include_colab_link": true
    },
    "kernelspec": {
      "display_name": "Python 3",
      "name": "python3"
    },
    "language_info": {
      "name": "python"
    }
  },
  "nbformat": 4,
  "nbformat_minor": 0
}